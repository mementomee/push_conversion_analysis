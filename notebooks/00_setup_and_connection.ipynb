{
 "cells": [
  {
   "cell_type": "code",
   "execution_count": 9,
   "id": "75e83967",
   "metadata": {},
   "outputs": [
    {
     "name": "stdout",
     "output_type": "stream",
     "text": [
      "🚀 Тестування системи аналізу push-сповіщень\n",
      "==================================================\n"
     ]
    }
   ],
   "source": [
    "import sys\n",
    "import os\n",
    "sys.path.append(os.path.abspath('..'))\n",
    "\n",
    "import pandas as pd\n",
    "import logging\n",
    "\n",
    "# Налаштування логування\n",
    "logging.basicConfig(level=logging.INFO, format='%(asctime)s - %(levelname)s - %(message)s')\n",
    "\n",
    "print(\"🚀 Тестування системи аналізу push-сповіщень\")\n",
    "print(\"=\" * 50)"
   ]
  },
  {
   "cell_type": "markdown",
   "id": "6bbde6d0",
   "metadata": {},
   "source": [
    "**КРОК 1: ПЕРЕВІРКА ІМПОРТІВ**"
   ]
  },
  {
   "cell_type": "code",
   "execution_count": 10,
   "id": "98e8a8bf",
   "metadata": {},
   "outputs": [
    {
     "name": "stdout",
     "output_type": "stream",
     "text": [
      "\n",
      "🔗 КРОК 1: ПЕРЕВІРКА ІМПОРТІВ\n",
      "----------------------------------------\n",
      "✅ Config модулі імпортовано\n",
      "✅ Src модулі імпортовано\n",
      "🎉 Всі імпорти успішні!\n"
     ]
    }
   ],
   "source": [
    "print(\"\\n🔗 КРОК 1: ПЕРЕВІРКА ІМПОРТІВ\")\n",
    "print(\"-\" * 40)\n",
    "\n",
    "try:\n",
    "    # Імпортуємо config модулі\n",
    "    from config.database_config import DatabaseManager\n",
    "    from config.constants import *\n",
    "    print(\"✅ Config модулі імпортовано\")\n",
    "    \n",
    "    # Імпортуємо src модулі\n",
    "    from src.database import PushDatabase\n",
    "    from src.data_loader import DataLoader\n",
    "    from src.analyzer import PushAnalyzer\n",
    "    from src.visualizer import PushVisualizer\n",
    "    print(\"✅ Src модулі імпортовано\")\n",
    "    \n",
    "    print(\"🎉 Всі імпорти успішні!\")\n",
    "    \n",
    "except Exception as e:\n",
    "    print(f\"❌ Помилка імпорту: {e}\")\n",
    "    import traceback\n",
    "    traceback.print_exc()\n"
   ]
  },
  {
   "cell_type": "markdown",
   "id": "848042e5",
   "metadata": {},
   "source": [
    "**КРОК 2: ПЕРЕВІРКА ПІДКЛЮЧЕНЬ**"
   ]
  },
  {
   "cell_type": "code",
   "execution_count": 11,
   "id": "0ba922a0",
   "metadata": {},
   "outputs": [
    {
     "name": "stdout",
     "output_type": "stream",
     "text": [
      "\n",
      "🔗 КРОК 2: ПЕРЕВІРКА ПІДКЛЮЧЕНЬ\n",
      "----------------------------------------\n",
      "🔍 Тестування підключень...\n",
      "✅ Підключено до statistic\n",
      "✅ Statistic: [(1,)]\n",
      "✅ Підключено до keitaro\n",
      "✅ Keitaro: [(1,)]\n",
      "✅ Підключення до баз даних успішне!\n"
     ]
    }
   ],
   "source": [
    "print(\"\\n🔗 КРОК 2: ПЕРЕВІРКА ПІДКЛЮЧЕНЬ\")\n",
    "print(\"-\" * 40)\n",
    "\n",
    "try:\n",
    "    db_manager = DatabaseManager()\n",
    "    db_manager.test_connections()\n",
    "    print(\"✅ Підключення до баз даних успішне!\")\n",
    "    \n",
    "except Exception as e:\n",
    "    print(f\"❌ Помилка підключення: {e}\")"
   ]
  },
  {
   "cell_type": "markdown",
   "id": "b5ee2b52",
   "metadata": {},
   "source": [
    "**КРОК 3: БАЗОВИЙ ТЕСТ СИСТЕМИ**"
   ]
  },
  {
   "cell_type": "code",
   "execution_count": 12,
   "id": "66e521f4",
   "metadata": {},
   "outputs": [
    {
     "name": "stdout",
     "output_type": "stream",
     "text": [
      "\n",
      "🔗 КРОК 3: БАЗОВИЙ ТЕСТ СИСТЕМИ\n",
      "----------------------------------------\n",
      "✅ Об'єкти створено успішно\n"
     ]
    },
    {
     "name": "stderr",
     "output_type": "stream",
     "text": [
      "2025-08-15 18:05:32,868 - INFO - 🔍 Виконання запиту до statistic...\n",
      "2025-08-15 18:05:32,910 - INFO - ✅ Запит виконано за 0.04с, отримано 1 записів\n"
     ]
    },
    {
     "name": "stdout",
     "output_type": "stream",
     "text": [
      "✅ Підключено до statistic\n",
      "✅ Базовий запит працює! Загальна кількість подій: 576,470,999\n"
     ]
    }
   ],
   "source": [
    "print(\"\\n🔗 КРОК 3: БАЗОВИЙ ТЕСТ СИСТЕМИ\")\n",
    "print(\"-\" * 40)\n",
    "\n",
    "try:\n",
    "    # Створюємо основні об'єкти\n",
    "    db = PushDatabase(cache_enabled=True)\n",
    "    loader = DataLoader(cache_enabled=True)\n",
    "    analyzer = PushAnalyzer()\n",
    "    visualizer = PushVisualizer()\n",
    "    \n",
    "    print(\"✅ Об'єкти створено успішно\")\n",
    "    \n",
    "    # Тестуємо базовий запит\n",
    "    test_result = db.execute_query(\n",
    "        'statistic', \n",
    "        \"SELECT COUNT(*) as total_events FROM event LIMIT 1\",\n",
    "        use_cache=False\n",
    "    )\n",
    "    \n",
    "    if not test_result.empty:\n",
    "        print(f\"✅ Базовий запит працює! Загальна кількість подій: {test_result.iloc[0]['total_events']:,}\")\n",
    "    else:\n",
    "        print(\"⚠️ Запит повернув пустий результат\")\n",
    "    \n",
    "except Exception as e:\n",
    "    print(f\"❌ Помилка тестування: {e}\")\n",
    "    import traceback\n",
    "    traceback.print_exc()"
   ]
  },
  {
   "cell_type": "markdown",
   "id": "250ec1e1",
   "metadata": {},
   "source": [
    " **КРОК 4: ПЕРЕВІРКА КОНСТАНТ**"
   ]
  },
  {
   "cell_type": "code",
   "execution_count": 14,
   "id": "a979e151",
   "metadata": {},
   "outputs": [
    {
     "name": "stdout",
     "output_type": "stream",
     "text": [
      "\n",
      "🔗 КРОК 4: ПЕРЕВІРКА КОНСТАНТ\n",
      "----------------------------------------\n",
      "📅 Період аналізу push-ів: 2025-05-22 - 2025-05-29\n",
      "📅 Період аналізу конверсій: 2025-05-22 - 2025-06-07\n",
      "📱 Цільові застосунки: ['Michelangelo', 'Leonardo', 'Raphael', 'Splinter']\n",
      "🌍 Tier 1 країни: ['US', 'UK', 'CA', 'AU', 'DE']... (всього 14)\n",
      "🌍 Tier 2 країни: ['ES', 'IT', 'PL', 'BR', 'MX']... (всього 15)\n",
      "🌍 Tier 3 країни: ['IN', 'ID', 'TH', 'VN', 'PH']... (всього 14)\n",
      "🌎 US -> Tier 1\n",
      "🌎 UA -> Tier 3\n",
      "🌎 IN -> Tier 3\n",
      "🌎 XYZ -> Other\n",
      "✅ Константи працюють правильно!\n"
     ]
    }
   ],
   "source": [
    "print(\"\\n🔗 КРОК 4: ПЕРЕВІРКА КОНСТАНТ\")\n",
    "print(\"-\" * 40)\n",
    "\n",
    "print(f\"📅 Період аналізу push-ів: {PUSH_START_DATE} - {PUSH_END_DATE}\")\n",
    "print(f\"📅 Період аналізу конверсій: {CONVERSION_START_DATE} - {CONVERSION_END_DATE}\")\n",
    "print(f\"📱 Цільові застосунки: {TARGET_APPS}\")\n",
    "print(f\"🌍 Tier 1 країни: {TIER_1_COUNTRIES[:5]}... (всього {len(TIER_1_COUNTRIES)})\")\n",
    "print(f\"🌍 Tier 2 країни: {TIER_2_COUNTRIES[:5]}... (всього {len(TIER_2_COUNTRIES)})\")\n",
    "print(f\"🌍 Tier 3 країни: {TIER_3_COUNTRIES[:5]}... (всього {len(TIER_3_COUNTRIES)})\")\n",
    "\n",
    "# Тестуємо функцію tier\n",
    "test_countries = ['US', 'UA', 'IN', 'XYZ']\n",
    "for country in test_countries:\n",
    "    tier = get_country_tier(country)\n",
    "    print(f\"🌎 {country} -> {tier}\")\n",
    "\n",
    "print(\"✅ Константи працюють правильно!\")"
   ]
  },
  {
   "cell_type": "markdown",
   "id": "1f14a5b4",
   "metadata": {},
   "source": [
    "**КРОК 5: ФІНАЛЬНА ПЕРЕВІРКА**"
   ]
  },
  {
   "cell_type": "code",
   "execution_count": 16,
   "id": "a7fb8660",
   "metadata": {},
   "outputs": [
    {
     "name": "stdout",
     "output_type": "stream",
     "text": [
      "\n",
      "🔗 КРОК 5: ФІНАЛЬНА ПЕРЕВІРКА\n",
      "----------------------------------------\n",
      "\n",
      "==================================================\n",
      "✅ НАЛАШТУВАННЯ ТА ПЕРЕВІРКА ЗАВЕРШЕНА!\n",
      "🚀 Готово до переходу на основний аналіз\n",
      "==================================================\n"
     ]
    }
   ],
   "source": [
    "print(\"\\n🔗 КРОК 5: ФІНАЛЬНА ПЕРЕВІРКА\")\n",
    "print(\"-\" * 40)\n",
    "print(\"\\n\" + \"=\" * 50)\n",
    "print(\"✅ НАЛАШТУВАННЯ ТА ПЕРЕВІРКА ЗАВЕРШЕНА!\")\n",
    "print(\"🚀 Готово до переходу на основний аналіз\")\n",
    "print(\"=\" * 50)"
   ]
  }
 ],
 "metadata": {
  "kernelspec": {
   "display_name": "Python 3",
   "language": "python",
   "name": "python3"
  },
  "language_info": {
   "codemirror_mode": {
    "name": "ipython",
    "version": 3
   },
   "file_extension": ".py",
   "mimetype": "text/x-python",
   "name": "python",
   "nbconvert_exporter": "python",
   "pygments_lexer": "ipython3",
   "version": "3.13.5"
  }
 },
 "nbformat": 4,
 "nbformat_minor": 5
}
